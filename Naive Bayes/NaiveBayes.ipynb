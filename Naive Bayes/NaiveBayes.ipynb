{
 "cells": [
  {
   "cell_type": "code",
   "execution_count": 100,
   "metadata": {},
   "outputs": [],
   "source": [
    "import numpy as np\n",
    "import sympy as sp\n",
    "import pandas as pd\n",
    "import math\n",
    "import matplotlib.pyplot as plt\n",
    "from sklearn.model_selection import train_test_split\n",
    "\n",
    "\n",
    "data=pd.read_csv('C:\\\\Users\\\\Utsav\\\\Desktop\\\\pulsar_prediction\\\\pulsar_stars.csv', sep=',',header=0)\n",
    "\n",
    "\n",
    "pulsarData=data.values\n",
    "pulsarData=np.array(pulsarData)"
   ]
  },
  {
   "cell_type": "code",
   "execution_count": 101,
   "metadata": {},
   "outputs": [
    {
     "name": "stdout",
     "output_type": "stream",
     "text": [
      "3580\n",
      "14318\n"
     ]
    }
   ],
   "source": [
    "#split the data\n",
    "\n",
    "train, test = train_test_split(data, test_size=0.2)\n",
    "pulsar=np.array(train)\n",
    "train=np.array(train)\n",
    "test=np.array(test)\n",
    "\n",
    "print(len(test))\n",
    "print(len(train))\n",
    "#print(train)"
   ]
  },
  {
   "cell_type": "code",
   "execution_count": 102,
   "metadata": {},
   "outputs": [],
   "source": [
    "#copy labels of test & train data elsewhere\n",
    "y_train=np.zeros(len(train))\n",
    "y_test=np.zeros(len(test))\n",
    "for i in range(len(test)):\n",
    "    y_test[i]=test[i][8]\n",
    "    test[i][8]=-1\n",
    "#replace all test and train labels by -1\n",
    "for i in range(len(train)):\n",
    "    y_train[i]=train[i][8]\n",
    "    train[i][8]=-1\n",
    "    "
   ]
  },
  {
   "cell_type": "code",
   "execution_count": 103,
   "metadata": {},
   "outputs": [],
   "source": [
    "from sklearn.naive_bayes import GaussianNB\n",
    "gnb = GaussianNB()\n",
    "naiveBayes = gnb.fit(train, y_train)\n",
    "y_pred = naiveBayes.predict(test)\n"
   ]
  },
  {
   "cell_type": "code",
   "execution_count": 104,
   "metadata": {},
   "outputs": [
    {
     "name": "stdout",
     "output_type": "stream",
     "text": [
      "Accuracy = 94.55%\n",
      "No of false negatives = 50\n",
      "No of positives in test data = 314\n",
      "No of positives predicted : 409\n"
     ]
    }
   ],
   "source": [
    "# calculate score\n",
    "\n",
    "score=0\n",
    "for i in range(len(test)):\n",
    "    if y_pred[i]==y_test[i]:\n",
    "        score=score+1\n",
    "score=score*100/len(test)\n",
    "\n",
    "print(\"Accuracy = \" + \"%.2f\" % score + \"%\")\n",
    "\n",
    "\n",
    "#calculate no of flase negatives\n",
    "score=0\n",
    "\n",
    "for i in range(len(test)):\n",
    "    if y_pred[i]==0 and y_test[i]==1:\n",
    "        score=score+1\n",
    "\n",
    "        \n",
    "#score=score*100/len(test)\n",
    "percent = score/len(test)\n",
    "\n",
    "\n",
    "print(\"No of false negatives = %d\" % score)\n",
    "print(\"No of positives in test data = %d\" % sum(y_test))\n",
    "print(\"No of positives predicted : %d\" % sum(y_pred))"
   ]
  },
  {
   "cell_type": "markdown",
   "metadata": {},
   "source": [
    "Own Implementation"
   ]
  },
  {
   "cell_type": "code",
   "execution_count": 105,
   "metadata": {},
   "outputs": [
    {
     "name": "stdout",
     "output_type": "stream",
     "text": [
      "12993\n",
      "1325\n",
      "14318\n"
     ]
    }
   ],
   "source": [
    "train=np.array(train)\n",
    "NegativeCount=0\n",
    "PositiveCount=0\n",
    "for i in range(14318):\n",
    "    if pulsar[i][8]==0:\n",
    "        NegativeCount=NegativeCount+1\n",
    "    if pulsar[i][8]==1:\n",
    "        PositiveCount=PositiveCount+1\n",
    "print(NegativeCount)\n",
    "print(PositiveCount)\n",
    "print(PositiveCount+NegativeCount)\n",
    "\n",
    "positives=np.zeros((PositiveCount,9))\n",
    "negatives=np.zeros((NegativeCount,9))\n",
    "    \n",
    "j=0\n",
    "k=0\n",
    "    \n",
    "for i in range(14318):\n",
    "\n",
    "    if(pulsar[i,8] == 1):\n",
    "        positives[j,:] = pulsar[i,:]\n",
    "        j=j+1\n",
    "    if(pulsar[i,8] == 0):\n",
    "        negatives[k,:] = pulsar[i,:]\n",
    "        k=k+1\n",
    "\n",
    "meanMatrixP = np.zeros(8)\n",
    "\n",
    "for i in range(8):\n",
    "    meanMatrixP[i] = np.mean(positives[:,i])\n",
    "\n",
    "varMatrixP = np.zeros(8)\n",
    "\n",
    "for i in range(8):\n",
    "    varMatrixP[i] = np.var(positives[:,i])\n",
    "    \n",
    "    \n",
    "\n",
    "meanMatrixNP = np.zeros(8)\n",
    "\n",
    "for i in range(8):\n",
    "    meanMatrixNP[i] = np.mean(negatives[:,i])\n",
    "\n",
    "varMatrixNP = np.zeros(8)\n",
    "\n",
    "for i in range(8):\n",
    "    varMatrixNP[i] = np.var(negatives[:,i])\n",
    "\n"
   ]
  },
  {
   "cell_type": "code",
   "execution_count": 106,
   "metadata": {},
   "outputs": [
    {
     "name": "stdout",
     "output_type": "stream",
     "text": [
      "[56.46443396 38.68962562  3.15917187 15.78174757 50.15509686 56.67265959\n",
      "  2.72705344 17.43102427]\n",
      "[ 902.9684607    65.5988982     3.56288583  201.32374846 2045.3054129\n",
      "  390.33028281    9.28765632 2112.73912716]\n",
      "[116.59501991  47.34497034   0.21020221   0.38037675   8.87940773\n",
      "  23.24627826   8.85398831 113.23625212]\n",
      "[3.06486622e+02 3.81434314e+01 1.12921431e-01 1.08675296e+00\n",
      " 6.02750879e+02 2.74519094e+02 1.77832335e+01 1.11451932e+04]\n"
     ]
    }
   ],
   "source": [
    "print(meanMatrixP)\n",
    "print(varMatrixP)\n",
    "print(meanMatrixNP)\n",
    "print(varMatrixNP)"
   ]
  },
  {
   "cell_type": "code",
   "execution_count": 107,
   "metadata": {},
   "outputs": [
    {
     "name": "stdout",
     "output_type": "stream",
     "text": [
      "409.0\n",
      "0.09254085766168459\n",
      "0.9074591423383154\n"
     ]
    }
   ],
   "source": [
    "#make predictions:\n",
    "\n",
    "y_pred1 = np.zeros(len(test))\n",
    "print(sum(y_pred))\n",
    "\n",
    "p_prob = PositiveCount/(PositiveCount+NegativeCount)\n",
    "np_prob = NegativeCount/(PositiveCount+NegativeCount)\n",
    "print(p_prob)\n",
    "print(np_prob)\n",
    "\n",
    "for i in range(len(test)):\n",
    "    prod_pulsar=1\n",
    "    for p in range(8):\n",
    "        prod_pulsar = prod_pulsar*np.exp((-(test[i,p]-meanMatrixP[p])**2)/(2*varMatrixP[p]))/(np.sqrt(2*3.14*varMatrixP[p]))\n",
    "    pulsar_prob = p_prob * (prod_pulsar)\n",
    "    \n",
    "\n",
    "    prod_nonpulsar=1\n",
    "    for nonp in range(8):\n",
    "        prod_nonpulsar = prod_nonpulsar*np.exp((-(test[i,nonp]-meanMatrixNP[nonp])**2)/(2*varMatrixNP[nonp]))/(np.sqrt(2*3.14*varMatrixNP[nonp]))\n",
    "    nonpulsar_prob = np_prob * (prod_nonpulsar)\n",
    "    \n",
    "    if (pulsar_prob>=nonpulsar_prob):\n",
    "        y_pred1[i] = 1\n",
    "    else:\n",
    "        y_pred1[i] = 0\n",
    "    \n"
   ]
  },
  {
   "cell_type": "code",
   "execution_count": 108,
   "metadata": {},
   "outputs": [
    {
     "name": "stdout",
     "output_type": "stream",
     "text": [
      "Accuracy = 94.55%\n",
      "No of false negatives = 50\n",
      "No of positives in test data = 314\n",
      "No of positives predicted : 409\n"
     ]
    }
   ],
   "source": [
    "# calculate score\n",
    "\n",
    "score=0\n",
    "for i in range(len(test)):\n",
    "    if y_pred1[i]==y_test[i]:\n",
    "        score=score+1\n",
    "score=score*100/len(test)\n",
    "\n",
    "print(\"Accuracy = \" + \"%.2f\" % score + \"%\")\n",
    "\n",
    "\n",
    "#calculate no of flase negatives\n",
    "score=0\n",
    "\n",
    "for i in range(len(test)):\n",
    "    if y_pred1[i]==0 and y_test[i]==1:\n",
    "        score=score+1\n",
    "\n",
    "        \n",
    "#score=score*100/len(test)\n",
    "percent = score/len(test)\n",
    "\n",
    "\n",
    "print(\"No of false negatives = %d\" % score)\n",
    "print(\"No of positives in test data = %d\" % sum(y_test))\n",
    "print(\"No of positives predicted : %d\" % sum(y_pred1))"
   ]
  },
  {
   "cell_type": "code",
   "execution_count": null,
   "metadata": {},
   "outputs": [],
   "source": []
  },
  {
   "cell_type": "code",
   "execution_count": null,
   "metadata": {},
   "outputs": [],
   "source": []
  }
 ],
 "metadata": {
  "kernelspec": {
   "display_name": "Python 3",
   "language": "python",
   "name": "python3"
  },
  "language_info": {
   "codemirror_mode": {
    "name": "ipython",
    "version": 3
   },
   "file_extension": ".py",
   "mimetype": "text/x-python",
   "name": "python",
   "nbconvert_exporter": "python",
   "pygments_lexer": "ipython3",
   "version": "3.6.5"
  }
 },
 "nbformat": 4,
 "nbformat_minor": 2
}
