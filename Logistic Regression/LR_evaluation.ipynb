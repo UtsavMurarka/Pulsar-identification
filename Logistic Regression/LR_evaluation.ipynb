{
 "cells": [
  {
   "cell_type": "code",
   "execution_count": 48,
   "metadata": {},
   "outputs": [],
   "source": [
    "import numpy as np\n",
    "import sympy as sp\n",
    "import pandas as pd\n",
    "import math\n",
    "import matplotlib.pyplot as plt\n",
    "from sklearn.model_selection import train_test_split\n",
    "\n",
    "\n",
    "data=pd.read_csv('C:\\\\Users\\\\Utsav\\\\Desktop\\\\pulsar_prediction\\\\pulsar_stars.csv', sep=',',header=0)\n",
    "\n",
    "\n",
    "pulsarData=data.values\n",
    "pulsarData=np.array(pulsarData)"
   ]
  },
  {
   "cell_type": "code",
   "execution_count": 49,
   "metadata": {},
   "outputs": [
    {
     "name": "stdout",
     "output_type": "stream",
     "text": [
      "3580\n",
      "14318\n"
     ]
    }
   ],
   "source": [
    "#split the data\n",
    "\n",
    "train, test = train_test_split(data, test_size=0.2)\n",
    "pulsar=np.array(train)\n",
    "train=np.array(train)\n",
    "test=np.array(test)\n",
    "\n",
    "print(len(test))\n",
    "print(len(train))\n",
    "#print(train)"
   ]
  },
  {
   "cell_type": "code",
   "execution_count": 50,
   "metadata": {},
   "outputs": [],
   "source": [
    "#copy labels of test & train data elsewhere\n",
    "#replace all test and train labels by 1 (for intercept term)\n",
    "\n",
    "\n",
    "y_train=np.zeros(len(train))\n",
    "y_test=np.zeros(len(test))\n",
    "for i in range(len(test)):\n",
    "    y_test[i]=test[i][8]\n",
    "    test[i][8]=1\n",
    "\n",
    "for i in range(len(train)):\n",
    "    y_train[i]=train[i][8]\n",
    "    train[i][8]=1\n",
    "    "
   ]
  },
  {
   "cell_type": "code",
   "execution_count": 51,
   "metadata": {},
   "outputs": [
    {
     "name": "stdout",
     "output_type": "stream",
     "text": [
      "3580\n",
      "0.001196852554975546\n",
      "################\n",
      "Wall time: 207 ms\n"
     ]
    }
   ],
   "source": [
    "%%time\n",
    "#logistic regression using sklearn\n",
    "from sklearn.linear_model import LogisticRegression\n",
    "# from sklearn import metrics\n",
    "\n",
    "logreg = LogisticRegression()\n",
    "logreg.fit(train, y_train)\n",
    "\n",
    "y_pred_prob = logreg.predict_proba(test)\n",
    "\n",
    "# y_pred = logreg.predict(test)\n",
    "y_pred = np.zeros(len(y_pred_prob))\n",
    "\n",
    "print(len(y_pred_prob))\n",
    "print(y_pred_prob[2500][1])\n",
    "print(\"################\")\n"
   ]
  },
  {
   "cell_type": "code",
   "execution_count": 52,
   "metadata": {},
   "outputs": [],
   "source": [
    "threshold = [0.1, 0.2, 0.3, 0.4, 0.5]\n",
    "threshold = np.array(threshold)\n",
    "\n",
    "scr = np.zeros(5)"
   ]
  },
  {
   "cell_type": "code",
   "execution_count": 53,
   "metadata": {},
   "outputs": [],
   "source": [
    "for i in threshold:\n",
    "    for j in range(len(y_pred_prob)):\n",
    "        if(y_pred_prob[j][1] >= i):\n",
    "            y_pred[j] = 1\n",
    "        else:\n",
    "            y_pred[j] = 0\n",
    "            \n",
    "    \n",
    "    score=0\n",
    "    for k in range(len(test)):\n",
    "        if y_pred[k]==y_test[k]:\n",
    "            score=score+1\n",
    "    score=score*100/len(test)\n",
    "    scr[int(10*i)-1] = score\n",
    "\n",
    "            \n",
    "    "
   ]
  },
  {
   "cell_type": "code",
   "execution_count": 54,
   "metadata": {},
   "outputs": [
    {
     "data": {
      "image/png": "[encoded data removed]",
      "text/plain": [
       "<Figure size 432x288 with 1 Axes>"
      ]
     },
     "metadata": {},
     "output_type": "display_data"
    }
   ],
   "source": [
    "import matplotlib.pyplot as plt\n",
    "plt.plot(threshold, scr)\n",
    "plt.ylabel('accuracy')\n",
    "plt.xlabel('threshold')\n",
    "plt.show()"
   ]
  },
  {
   "cell_type": "markdown",
   "metadata": {},
   "source": [
    "We get maximum accuarcy if we set threshold to 0.3 instead of 0.5"
   ]
  },
  {
   "cell_type": "code",
   "execution_count": 55,
   "metadata": {},
   "outputs": [
    {
     "data": {
      "text/plain": [
       "0.9823780636269884"
      ]
     },
     "execution_count": 55,
     "metadata": {},
     "output_type": "execute_result"
    }
   ],
   "source": [
    "from sklearn.metrics import roc_auc_score\n",
    "\n",
    "roc_auc_score(y_test, y_pred_prob[:,1])"
   ]
  },
  {
   "cell_type": "code",
   "execution_count": null,
   "metadata": {},
   "outputs": [],
   "source": []
  }
 ],
 "metadata": {
  "kernelspec": {
   "display_name": "Python 3",
   "language": "python",
   "name": "python3"
  },
  "language_info": {
   "codemirror_mode": {
    "name": "ipython",
    "version": 3
   },
   "file_extension": ".py",
   "mimetype": "text/x-python",
   "name": "python",
   "nbconvert_exporter": "python",
   "pygments_lexer": "ipython3",
   "version": "3.6.5"
  }
 },
 "nbformat": 4,
 "nbformat_minor": 2
}
