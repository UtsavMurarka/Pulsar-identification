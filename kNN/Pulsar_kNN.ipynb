{
 "cells": [
  {
   "cell_type": "code",
   "execution_count": 15,
   "metadata": {},
   "outputs": [],
   "source": [
    "import numpy as np\n",
    "import sympy as sp\n",
    "import pandas as pd\n",
    "import math\n",
    "import matplotlib.pyplot as plt\n",
    "from sklearn.model_selection import train_test_split\n",
    "\n",
    "\n",
    "data=pd.read_csv('C:\\\\Users\\\\Utsav\\\\Desktop\\\\pulsar_prediction\\\\pulsar_stars.csv', sep=',',header=0)\n",
    "\n",
    "\n",
    "pulsarData=data.values\n",
    "pulsarData=np.array(pulsarData)"
   ]
  },
  {
   "cell_type": "code",
   "execution_count": 16,
   "metadata": {},
   "outputs": [
    {
     "name": "stdout",
     "output_type": "stream",
     "text": [
      "3580\n",
      "14318\n"
     ]
    }
   ],
   "source": [
    "#split the data\n",
    "\n",
    "train, test = train_test_split(data, test_size=0.2)\n",
    "pulsar=np.array(train)\n",
    "train=np.array(train)\n",
    "test=np.array(test)\n",
    "\n",
    "print(len(test))\n",
    "print(len(train))\n",
    "#print(train)"
   ]
  },
  {
   "cell_type": "code",
   "execution_count": 17,
   "metadata": {},
   "outputs": [],
   "source": [
    "#copy labels of test & train data elsewhere\n",
    "y_train=np.zeros(len(train))\n",
    "y_test=np.zeros(len(test))\n",
    "for i in range(len(test)):\n",
    "    y_test[i]=test[i][8]\n",
    "    test[i][8]=-1\n",
    "#replace all test and train labels by -1\n",
    "for i in range(len(train)):\n",
    "    y_train[i]=train[i][8]\n",
    "    train[i][8]=-1\n",
    "    "
   ]
  },
  {
   "cell_type": "code",
   "execution_count": 18,
   "metadata": {},
   "outputs": [],
   "source": [
    "\n",
    "from sklearn.neighbors import KNeighborsClassifier\n",
    "\n",
    "knn = KNeighborsClassifier(n_neighbors=5)"
   ]
  },
  {
   "cell_type": "code",
   "execution_count": 19,
   "metadata": {},
   "outputs": [
    {
     "name": "stdout",
     "output_type": "stream",
     "text": [
      "Accuracy = 96.96%\n",
      "No. of false negatives = 77\n"
     ]
    }
   ],
   "source": [
    "\n",
    "knn.fit(train, y_train)\n",
    "y_pred = knn.predict(test)\n",
    "\n",
    "#calculate score (without scaling)\n",
    "score=0\n",
    "for i in range(len(test)):\n",
    "    if y_pred[i]==y_test[i]:\n",
    "        score=score+1\n",
    "score=score*100/len(test)\n",
    "\n",
    "print(\"Accuracy = \" + \"%.2f\" % score + \"%\")\n",
    "\n",
    "#calculate no of flase negatives\n",
    "score=0\n",
    "for i in range(len(test)):\n",
    "    if y_pred[i]==0 and y_test[i]==1:\n",
    "        score=score+1\n",
    "#score=score*100/len(test)\n",
    "\n",
    "print(\"No. of false negatives = %d\" % score) \n"
   ]
  },
  {
   "cell_type": "code",
   "execution_count": 20,
   "metadata": {},
   "outputs": [],
   "source": [
    "\n",
    "from sklearn.neighbors import KNeighborsClassifier\n",
    "\n",
    "knn1 = KNeighborsClassifier(n_neighbors=5)"
   ]
  },
  {
   "cell_type": "code",
   "execution_count": 21,
   "metadata": {},
   "outputs": [
    {
     "name": "stdout",
     "output_type": "stream",
     "text": [
      "Accuracy = 97.71%\n",
      "No. of false negatives = 54\n"
     ]
    }
   ],
   "source": [
    "\n",
    "# kNN with feature scaling\n",
    "from sklearn.preprocessing import MaxAbsScaler\n",
    "\n",
    "scaler=MaxAbsScaler()\n",
    "\n",
    "train_scaled=scaler.fit_transform(train)\n",
    "test_scaled=scaler.fit_transform(test)\n",
    "\n",
    "knn1.fit(train_scaled, y_train)\n",
    "y_pred = knn1.predict(test_scaled)\n",
    "\n",
    "#calculate score (with scaling)\n",
    "score=0\n",
    "for i in range(len(test)):\n",
    "    if y_pred[i]==y_test[i]:\n",
    "        score=score+1\n",
    "score=score*100/len(test)\n",
    "\n",
    "print(\"Accuracy = \" + \"%.2f\" % score + \"%\")\n",
    "\n",
    "#calculate no of flase negatives\n",
    "score=0\n",
    "for i in range(len(test)):\n",
    "    if y_pred[i]==0 and y_test[i]==1:\n",
    "        score=score+1\n",
    "#score=score*100/len(test)\n",
    "\n",
    "print(\"No. of false negatives = %d\" % score) "
   ]
  },
  {
   "cell_type": "code",
   "execution_count": 22,
   "metadata": {},
   "outputs": [
    {
     "name": "stdout",
     "output_type": "stream",
     "text": [
      "Accuracy = 97.23%\n",
      "Wall time: 5min 12s\n"
     ]
    }
   ],
   "source": [
    "%%time\n",
    "#implementation without sklearn\n",
    "\n",
    "#without scaling\n",
    "\n",
    "def md(arr1, arr2):\n",
    "    md = 0\n",
    "    for i in range(8):\n",
    "        md = md + abs(arr1[i]-arr2[i])\n",
    "    \n",
    "    return md\n",
    "\n",
    "\n",
    "for i in range(len(test)):\n",
    "    dist = np.zeros(len(train))\n",
    "    label = np.zeros(len(train))\n",
    "    for j in range(len(train)):\n",
    "        dist[j]=md(train[j], test[i])\n",
    "        label[j]=y_train[j]\n",
    "        \n",
    "    l1 = np.argmin(dist)\n",
    "    dist[l1] = 999999999999\n",
    "    l1 = label[l1]\n",
    "    l2 = np.argmin(dist)\n",
    "    dist[l2] = 999999999999\n",
    "    l2 = label[l2]\n",
    "    l3 = np.argmin(dist)\n",
    "    dist[l3] = 999999999999\n",
    "    l3 = label[l3]\n",
    "    \n",
    "    knn = l1+l2+l3\n",
    "    if(knn == 0):\n",
    "        y_pred[i]=0\n",
    "    if(knn == 1):\n",
    "        y_pred[i]=0\n",
    "    if(knn == 2):\n",
    "        y_pred[i]=1\n",
    "    if(knn == 3):\n",
    "        y_pred[i]=1\n",
    "        \n",
    "        \n",
    "score=0\n",
    "for l in range(len(test)):\n",
    "    if y_pred[l]==y_test[l]:\n",
    "        score=score+1\n",
    "score=score*100/len(test)\n",
    "print(\"Accuracy = \" + \"%.2f\" % score + \"%\")"
   ]
  },
  {
   "cell_type": "code",
   "execution_count": 23,
   "metadata": {},
   "outputs": [
    {
     "name": "stdout",
     "output_type": "stream",
     "text": [
      "Accuracy = 97.54%\n",
      "Wall time: 7min 44s\n"
     ]
    }
   ],
   "source": [
    "%%time\n",
    "#implementation without sklearn\n",
    "#with scaling\n",
    "\n",
    "from sklearn.preprocessing import MaxAbsScaler\n",
    "\n",
    "scaler=MaxAbsScaler()\n",
    "\n",
    "train_scaled=scaler.fit_transform(train)\n",
    "test_scaled=scaler.fit_transform(test)\n",
    "\n",
    "\n",
    "\"\"\"\n",
    "def md(arr1, arr2):\n",
    "    md = 0\n",
    "    for i in range(8):\n",
    "        md = md + abs(arr1[i]-arr2[i])\n",
    "    \n",
    "    return md\n",
    "\"\"\"\n",
    "\n",
    "\n",
    "def ed(arr1, arr2):\n",
    "    ed = 0\n",
    "    for i in range(8):\n",
    "        ed = ed + (arr1[i]-arr2[i])**2\n",
    "    \n",
    "    return math.sqrt(ed)\n",
    "\n",
    "\n",
    "\n",
    "for i in range(len(test_scaled)):\n",
    "    dist = np.zeros(len(train_scaled))\n",
    "    label = np.zeros(len(train_scaled))\n",
    "    for j in range(len(train_scaled)):\n",
    "        dist[j]=ed(train_scaled[j], test_scaled[i])\n",
    "        label[j]=y_train[j]\n",
    "        \n",
    "    l1 = np.argmin(dist)\n",
    "    dist[l1] = 999999999999\n",
    "    l1 = label[l1]\n",
    "    l2 = np.argmin(dist)\n",
    "    dist[l2] = 999999999999\n",
    "    l2 = label[l2]\n",
    "    l3 = np.argmin(dist)\n",
    "    dist[l3] = 999999999999\n",
    "    l3 = label[l3]\n",
    "    \n",
    "    knn = l1+l2+l3\n",
    "    if(knn == 0):\n",
    "        y_pred[i]=0\n",
    "    if(knn == 1):\n",
    "        y_pred[i]=0\n",
    "    if(knn == 2):\n",
    "        y_pred[i]=1\n",
    "    if(knn == 3):\n",
    "        y_pred[i]=1\n",
    "        \n",
    "        \n",
    "score=0\n",
    "for l in range(len(test_scaled)):\n",
    "    if y_pred[l]==y_test[l]:\n",
    "        score=score+1\n",
    "score=score*100/len(test_scaled)\n",
    "print(\"Accuracy = \" + \"%.2f\" % score + \"%\")\n",
    "\n",
    "#calculate no of flase negatives\n",
    "score=0\n",
    "pos=0\n",
    "for i in range(len(test)):\n",
    "    if y_pred[i]==0 and y_test[i]==1:\n",
    "        score=score+1\n",
    "    if y_test[i]==1:\n",
    "        pos=pos+1\n",
    "        \n",
    "#score=score*100/len(test)\n",
    "percent = score/len(test)\n",
    "\n",
    "\n",
    "print(\"No of false negatives = %d\" % score)\n",
    "print(\"No of positives = %d\" % pos)\n"
   ]
  },
  {
   "cell_type": "code",
   "execution_count": 24,
   "metadata": {},
   "outputs": [
    {
     "name": "stdout",
     "output_type": "stream",
     "text": [
      "Accuracy = 98.27%\n",
      "Wall time: 8.77 s\n"
     ]
    }
   ],
   "source": [
    "%%time\n",
    "#kNN without feature scaling\n",
    "#algorithm = bruteforce\n",
    "#runnung on train data\n",
    "from sklearn.neighbors import KNeighborsClassifier\n",
    "from sklearn.preprocessing import MaxAbsScaler\n",
    "\n",
    "scaler=MaxAbsScaler()\n",
    "\n",
    "train_scaled=scaler.fit_transform(train)\n",
    "test_scaled=scaler.fit_transform(test)\n",
    "\n",
    "knn = KNeighborsClassifier(n_neighbors=5, algorithm='brute')\n",
    "knn.fit(train_scaled, y_train)\n",
    "y_pred = knn.predict(train_scaled)\n",
    "\n",
    "score=0\n",
    "for l in range(len(train_scaled)):\n",
    "    if y_pred[l]==y_train[l]:\n",
    "        score=score+1\n",
    "score=score*100/len(train_scaled)\n",
    "print(\"Accuracy = \" + \"%.2f\" % score + \"%\")"
   ]
  },
  {
   "cell_type": "code",
   "execution_count": 25,
   "metadata": {},
   "outputs": [
    {
     "name": "stdout",
     "output_type": "stream",
     "text": [
      "Accuracy = 94.19%\n",
      "1370.0\n",
      "No of false negatives = 35\n",
      "No of positives = 328\n",
      "Wall time: 6min 11s\n"
     ]
    }
   ],
   "source": [
    "%%time\n",
    "#implementation without sklearn\n",
    "#with scaling\n",
    "\n",
    "from sklearn.preprocessing import MaxAbsScaler\n",
    "\n",
    "scaler=MaxAbsScaler()\n",
    "\n",
    "train_scaled=scaler.fit_transform(train)\n",
    "test_scaled=scaler.fit_transform(test)\n",
    "\n",
    "\n",
    "def md(arr1, arr2):\n",
    "    md = 0\n",
    "    for i in range(8):\n",
    "        md = md + abs(arr1[i]-arr2[i])\n",
    "    \n",
    "    return md\n",
    "\n",
    "\"\"\"\n",
    "def ed(arr1, arr2):\n",
    "    ed = 0\n",
    "    for i in range(8):\n",
    "        ed = ed + (arr1[i]-arr2[i])**2\n",
    "    \n",
    "    return math.sqrt(ed)\n",
    "\"\"\"\n",
    "\n",
    "\n",
    "for i in range(len(test_scaled)):\n",
    "    dist = np.zeros(len(train_scaled))\n",
    "    label = np.zeros(len(train_scaled))\n",
    "    for j in range(len(train_scaled)):\n",
    "        dist[j]=md(train_scaled[j], test_scaled[i])\n",
    "        label[j]=y_train[j]\n",
    "        \n",
    "    l1 = np.argmin(dist)\n",
    "    dist[l1] = 999999999999\n",
    "    l1 = label[l1]\n",
    "    l2 = np.argmin(dist)\n",
    "    dist[l2] = 999999999999\n",
    "    l2 = label[l2]\n",
    "    l3 = np.argmin(dist)\n",
    "    dist[l3] = 999999999999\n",
    "    l3 = label[l3]\n",
    "    \n",
    "    knn = l1+l2+l3\n",
    "    if(knn == 0):\n",
    "        y_pred[i]=0\n",
    "    if(knn == 1):\n",
    "        y_pred[i]=1\n",
    "    if(knn == 2):\n",
    "        y_pred[i]=1\n",
    "    if(knn == 3):\n",
    "        y_pred[i]=1\n",
    "        \n",
    "        \n",
    "score=0\n",
    "for l in range(len(test_scaled)):\n",
    "    if y_pred[l]==y_test[l]:\n",
    "        score=score+1\n",
    "score=score*100/len(test_scaled)\n",
    "print(\"Accuracy = \" + \"%.2f\" % score + \"%\")\n",
    "print(sum(y_pred))\n",
    "\n",
    "#calculate no of flase negatives\n",
    "score=0\n",
    "pos=0\n",
    "for i in range(len(test)):\n",
    "    if y_pred[i]==0 and y_test[i]==1:\n",
    "        score=score+1\n",
    "    if y_test[i]==1:\n",
    "        pos=pos+1\n",
    "        \n",
    "#score=score*100/len(test)\n",
    "percent = score/len(test)\n",
    "\n",
    "\n",
    "print(\"No of false negatives = %d\" % score)\n",
    "print(\"No of positives = %d\" % pos)\n"
   ]
  },
  {
   "cell_type": "code",
   "execution_count": null,
   "metadata": {},
   "outputs": [],
   "source": []
  }
 ],
 "metadata": {
  "kernelspec": {
   "display_name": "Python 3",
   "language": "python",
   "name": "python3"
  },
  "language_info": {
   "codemirror_mode": {
    "name": "ipython",
    "version": 3
   },
   "file_extension": ".py",
   "mimetype": "text/x-python",
   "name": "python",
   "nbconvert_exporter": "python",
   "pygments_lexer": "ipython3",
   "version": "3.6.5"
  }
 },
 "nbformat": 4,
 "nbformat_minor": 2
}
