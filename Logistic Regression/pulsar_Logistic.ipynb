{
 "cells": [
  {
   "cell_type": "code",
   "execution_count": 164,
   "metadata": {},
   "outputs": [],
   "source": [
    "import numpy as np\n",
    "import sympy as sp\n",
    "import pandas as pd\n",
    "import math\n",
    "import matplotlib.pyplot as plt\n",
    "from sklearn.model_selection import train_test_split\n",
    "\n",
    "\n",
    "data=pd.read_csv('C:\\\\Users\\\\Utsav\\\\Desktop\\\\pulsar_prediction\\\\pulsar_stars.csv', sep=',',header=0)\n",
    "\n",
    "\n",
    "pulsarData=data.values\n",
    "pulsarData=np.array(pulsarData)"
   ]
  },
  {
   "cell_type": "code",
   "execution_count": 165,
   "metadata": {},
   "outputs": [
    {
     "name": "stdout",
     "output_type": "stream",
     "text": [
      "3580\n",
      "14318\n"
     ]
    }
   ],
   "source": [
    "#split the data\n",
    "\n",
    "train, test = train_test_split(data, test_size=0.2)\n",
    "pulsar=np.array(train)\n",
    "train=np.array(train)\n",
    "test=np.array(test)\n",
    "\n",
    "print(len(test))\n",
    "print(len(train))\n",
    "#print(train)"
   ]
  },
  {
   "cell_type": "code",
   "execution_count": 166,
   "metadata": {},
   "outputs": [],
   "source": [
    "#copy labels of test & train data elsewhere\n",
    "#replace all test and train labels by 1 (for intercept term)\n",
    "\n",
    "\n",
    "y_train=np.zeros(len(train))\n",
    "y_test=np.zeros(len(test))\n",
    "for i in range(len(test)):\n",
    "    y_test[i]=test[i][8]\n",
    "    test[i][8]=1\n",
    "\n",
    "for i in range(len(train)):\n",
    "    y_train[i]=train[i][8]\n",
    "    train[i][8]=1\n",
    "    "
   ]
  },
  {
   "cell_type": "code",
   "execution_count": 167,
   "metadata": {},
   "outputs": [
    {
     "name": "stdout",
     "output_type": "stream",
     "text": [
      "Wall time: 254 ms\n"
     ]
    }
   ],
   "source": [
    "%%time\n",
    "#logistic regression using sklearn\n",
    "from sklearn.linear_model import LogisticRegression\n",
    "from sklearn import metrics\n",
    "\n",
    "\n",
    "logreg = LogisticRegression()\n",
    "logreg.fit(train, y_train)\n",
    "\n",
    "y_pred = logreg.predict(test)\n"
   ]
  },
  {
   "cell_type": "code",
   "execution_count": 168,
   "metadata": {},
   "outputs": [
    {
     "name": "stdout",
     "output_type": "stream",
     "text": [
      "Accuracy = 97.85%\n"
     ]
    }
   ],
   "source": [
    "# calculate score\n",
    "\n",
    "score=0\n",
    "for i in range(len(test)):\n",
    "    if y_pred[i]==y_test[i]:\n",
    "        score=score+1\n",
    "score=score*100/len(test)\n",
    "\n",
    "print(\"Accuracy = \" + \"%.2f\" % score + \"%\")"
   ]
  },
  {
   "cell_type": "code",
   "execution_count": 169,
   "metadata": {},
   "outputs": [
    {
     "name": "stdout",
     "output_type": "stream",
     "text": [
      "Accuracy = 97.18%\n"
     ]
    }
   ],
   "source": [
    "#using maxabs scaler\n",
    "\n",
    "\n",
    "\n",
    "from sklearn.preprocessing import MinMaxScaler\n",
    "scaler = MinMaxScaler()\n",
    "train_scaled=scaler.fit_transform(train)\n",
    "test_scaled=scaler.fit_transform(test)\n",
    "\n",
    "\n",
    "logreg = LogisticRegression()\n",
    "logreg.fit(train_scaled, y_train)\n",
    "\n",
    "y_pred = logreg.predict(test_scaled)\n",
    "\n",
    "#calculate score\n",
    "score=0\n",
    "for i in range(len(test)):\n",
    "    if y_pred[i]==y_test[i]:\n",
    "        score=score+1\n",
    "score=score*100/len(test)\n",
    "\n",
    "print(\"Accuracy = \" + \"%.2f\" % score + \"%\")"
   ]
  },
  {
   "cell_type": "markdown",
   "metadata": {},
   "source": [
    "Own Implementation"
   ]
  },
  {
   "cell_type": "code",
   "execution_count": 170,
   "metadata": {},
   "outputs": [
    {
     "name": "stdout",
     "output_type": "stream",
     "text": [
      "[ 3.65133667e-02 -3.80217159e-02  6.78890765e+00 -6.33306875e-01\n",
      " -2.47733463e-02  4.29645538e-02 -5.28755145e-03 -3.77353568e-03\n",
      " -9.14482752e+00]\n"
     ]
    }
   ],
   "source": [
    "from scipy.optimize import fmin_tnc\n",
    "\n",
    "theta = np.zeros((X.shape[1], 1))\n",
    "\n",
    "def sigmoid(z):\n",
    "    sigma = 1 / (1 + np.exp(-z)) \n",
    "    return sigma\n",
    "\n",
    "def probability(theta, x):\n",
    "    return sigmoid(np.dot(x, theta))\n",
    "\n",
    "def cost_function(theta, x, y):\n",
    "    cost = -np.sum(y*np.log(probability(theta, x)) + (1-y)*np.log(1 - probability(theta, x)))\n",
    "    return cost\n",
    "\n",
    "def gradient (theta, x, y): \n",
    "    return np.dot(x.T, probability(theta , x) - y)\n",
    "\n",
    "\n",
    "def fit (x, y, theta):\n",
    "    param = fmin_tnc(func=cost_function, x0=theta, fprime=gradient,args=(x, y.flatten()))\n",
    "    return param[0]\n",
    "\n",
    "parameters = fit(X, y, theta)\n",
    "print (parameters)\n",
    "\n",
    "def predict(test, y_test, theta):\n",
    "    for i in range(len(test)):\n",
    "        p = probability(parameters, test[i,:])\n",
    "        if p>0.5:\n",
    "            y_test[i] = 1\n",
    "        else:\n",
    "            y_test[i] = 0\n"
   ]
  },
  {
   "cell_type": "code",
   "execution_count": 171,
   "metadata": {},
   "outputs": [],
   "source": [
    "#predict\n",
    "predict(test, y_pred, parameters)"
   ]
  },
  {
   "cell_type": "code",
   "execution_count": 172,
   "metadata": {},
   "outputs": [
    {
     "name": "stdout",
     "output_type": "stream",
     "text": [
      "Accuracy = 97.96%\n"
     ]
    }
   ],
   "source": [
    "# calculate score:\n",
    "score=0\n",
    "for i in range(len(test)):\n",
    "    if y_pred[i]==y_test[i]:\n",
    "        score=score+1\n",
    "score=score*100/len(test)\n",
    "\n",
    "print(\"Accuracy = \" + \"%.2f\" % score + \"%\")\n"
   ]
  },
  {
   "cell_type": "code",
   "execution_count": null,
   "metadata": {},
   "outputs": [],
   "source": []
  },
  {
   "cell_type": "code",
   "execution_count": null,
   "metadata": {},
   "outputs": [],
   "source": []
  }
 ],
 "metadata": {
  "kernelspec": {
   "display_name": "Python 3",
   "language": "python",
   "name": "python3"
  },
  "language_info": {
   "codemirror_mode": {
    "name": "ipython",
    "version": 3
   },
   "file_extension": ".py",
   "mimetype": "text/x-python",
   "name": "python",
   "nbconvert_exporter": "python",
   "pygments_lexer": "ipython3",
   "version": "3.6.5"
  }
 },
 "nbformat": 4,
 "nbformat_minor": 2
}
